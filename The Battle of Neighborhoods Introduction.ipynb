{
 "cells": [
  {
   "cell_type": "markdown",
   "metadata": {},
   "source": [
    "## Introduction\n",
    "My friends is looking to open a restaurant, where would we recommend that they open it? So, we explore the different restaurant distribution in different city, New York City and Toronto."
   ]
  },
  {
   "cell_type": "markdown",
   "metadata": {},
   "source": [
    "## Business Problem\n",
    "In order to explore the restaurant information. We will have the need to use some information about the Localities in New York City And Toronto. We must be sure that the place where the restaurant joint is opened will have enough customers and also that there aren't a large amount of restaurant joints in the place. For this reason, we need to analyze different scenarios in the area to make sure that the restaurant will be successful in the area. We are going to try to avoid others restaurant Joint in the area and we are looking for a area where there are:\n",
    "* different district school information\n",
    "* restaurant information\n",
    "\n",
    "For this project we are mainly concerned with the area around two cities to setup a restaurant Joint to ensure maximum profitability for new business."
   ]
  },
  {
   "cell_type": "markdown",
   "metadata": {},
   "source": [
    "## Data\n",
    "To choose the restaurant, we will need to access following data:\n",
    "\n",
    "* Neighbourhoods in [New York](https://en.wikipedia.org/wiki/Neighborhoods_in_New_York_City) And [Toronto](https://en.wikipedia.org/wiki/List_of_neighbourhoods_in_Toronto)\n",
    "\n",
    "From the table above, we are going to extra the data to build our analysis.\n",
    "\n",
    "The coordinates (latitude, longitude) to these Localities of two cities from FourSquare APIs. And we are going to work with this type of maps to identify our venues locations:\n",
    "\n",
    "From Foursquare we will need following venues data:\n",
    "- the school information\n",
    "- different restaurant information\n",
    "We will then leverage the data in order to determine which locality is the most appropriate in order to locate the restaurant joint."
   ]
  }
 ],
 "metadata": {
  "kernelspec": {
   "display_name": "Python 3",
   "language": "python",
   "name": "python3"
  },
  "language_info": {
   "codemirror_mode": {
    "name": "ipython",
    "version": 3
   },
   "file_extension": ".py",
   "mimetype": "text/x-python",
   "name": "python",
   "nbconvert_exporter": "python",
   "pygments_lexer": "ipython3",
   "version": "3.6.8"
  }
 },
 "nbformat": 4,
 "nbformat_minor": 2
}
